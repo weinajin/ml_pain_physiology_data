{
 "cells": [
  {
   "cell_type": "markdown",
   "metadata": {},
   "source": [
    "## ML with Extracted Features\n",
    "\n",
    "Gruss S, Walter S (2015) Data from: Pain intensity recognition rates via biopotential feature patterns with support vector machines. Dryad Digital Repository. https://doi.org/10.5061/dryad.2b09s\n"
   ]
  },
  {
   "cell_type": "code",
   "execution_count": 21,
   "metadata": {
    "collapsed": true
   },
   "outputs": [],
   "source": [
    "import numpy as np\n",
    "import pandas as pd\n",
    "import matplotlib.pyplot as plt\n",
    "import keras\n",
    "from sklearn.ensemble import RandomForestClassifier, AdaBoostClassifier\n",
    "from sklearn.pipeline import Pipeline\n",
    "from sklearn.preprocessing import Imputer\n",
    "from sklearn.model_selection import cross_validate, cross_val_score, KFold\n",
    "from sklearn.linear_model import LogisticRegression"
   ]
  },
  {
   "cell_type": "code",
   "execution_count": 2,
   "metadata": {
    "collapsed": true
   },
   "outputs": [],
   "source": [
    "rawdata = pd.read_csv('features.csv') #(8500, 160)"
   ]
  },
  {
   "cell_type": "code",
   "execution_count": 3,
   "metadata": {
    "collapsed": true
   },
   "outputs": [],
   "source": [
    "Y_LABEL = 'Label'\n",
    "rawdata = rawdata.sample(frac=1)\n",
    "\n",
    "label = rawdata[Y_LABEL]\n",
    "label = label.replace(['level_zero', 'level_one','level_two','level_three','level_four'],[0,1,2,3,4])\n",
    "rawX = rawdata.drop([Y_LABEL],  axis=1)\n",
    "rawX.iloc[:5]\n",
    "N,D = rawX.shape"
   ]
  },
  {
   "cell_type": "code",
   "execution_count": 4,
   "metadata": {},
   "outputs": [
    {
     "data": {
      "text/plain": [
       "73"
      ]
     },
     "execution_count": 4,
     "metadata": {},
     "output_type": "execute_result"
    }
   ],
   "source": [
    "# check for NaN\n",
    "rawX.isnull().sum().sum()"
   ]
  },
  {
   "cell_type": "code",
   "execution_count": 5,
   "metadata": {},
   "outputs": [
    {
     "data": {
      "text/plain": [
       "0"
      ]
     },
     "execution_count": 5,
     "metadata": {},
     "output_type": "execute_result"
    }
   ],
   "source": [
    "X=rawX.fillna(rawX.mean())\n",
    "X.isnull().sum().sum()"
   ]
  },
  {
   "cell_type": "code",
   "execution_count": 6,
   "metadata": {
    "collapsed": true
   },
   "outputs": [],
   "source": [
    "# Normalization \n",
    "norm = lambda x: (x - x.mean()) / x.std()\n",
    "X = X.apply(norm)"
   ]
  },
  {
   "cell_type": "markdown",
   "metadata": {},
   "source": [
    "### Logistic regression"
   ]
  },
  {
   "cell_type": "code",
   "execution_count": 9,
   "metadata": {},
   "outputs": [
    {
     "name": "stdout",
     "output_type": "stream",
     "text": [
      "max_iter reached after 9 seconds\n"
     ]
    },
    {
     "name": "stderr",
     "output_type": "stream",
     "text": [
      "/Users/kiwi/virtualenv/python3.4_tensorflow/lib/python3.4/site-packages/sklearn/linear_model/sag.py:326: ConvergenceWarning: The max_iter was reached which means the coef_ did not converge\n",
      "  \"the coef_ did not converge\", ConvergenceWarning)\n"
     ]
    },
    {
     "name": "stdout",
     "output_type": "stream",
     "text": [
      "max_iter reached after 8 seconds\n",
      "max_iter reached after 9 seconds\n",
      "max_iter reached after 8 seconds\n",
      "max_iter reached after 9 seconds\n"
     ]
    },
    {
     "name": "stderr",
     "output_type": "stream",
     "text": [
      "[Parallel(n_jobs=1)]: Done   5 out of   5 | elapsed:   42.6s finished\n"
     ]
    },
    {
     "name": "stdout",
     "output_type": "stream",
     "text": [
      "max_iter reached after 8 seconds\n"
     ]
    },
    {
     "name": "stderr",
     "output_type": "stream",
     "text": [
      "/Users/kiwi/virtualenv/python3.4_tensorflow/lib/python3.4/site-packages/sklearn/linear_model/sag.py:326: ConvergenceWarning: The max_iter was reached which means the coef_ did not converge\n",
      "  \"the coef_ did not converge\", ConvergenceWarning)\n"
     ]
    },
    {
     "name": "stdout",
     "output_type": "stream",
     "text": [
      "max_iter reached after 9 seconds\n",
      "max_iter reached after 9 seconds\n",
      "max_iter reached after 9 seconds\n",
      "max_iter reached after 8 seconds\n"
     ]
    },
    {
     "name": "stderr",
     "output_type": "stream",
     "text": [
      "[Parallel(n_jobs=1)]: Done   5 out of   5 | elapsed:   43.8s finished\n"
     ]
    },
    {
     "name": "stdout",
     "output_type": "stream",
     "text": [
      "max_iter reached after 8 seconds\n"
     ]
    },
    {
     "name": "stderr",
     "output_type": "stream",
     "text": [
      "/Users/kiwi/virtualenv/python3.4_tensorflow/lib/python3.4/site-packages/sklearn/linear_model/sag.py:326: ConvergenceWarning: The max_iter was reached which means the coef_ did not converge\n",
      "  \"the coef_ did not converge\", ConvergenceWarning)\n"
     ]
    },
    {
     "name": "stdout",
     "output_type": "stream",
     "text": [
      "max_iter reached after 9 seconds\n",
      "max_iter reached after 8 seconds\n",
      "max_iter reached after 9 seconds\n",
      "max_iter reached after 9 seconds\n"
     ]
    },
    {
     "name": "stderr",
     "output_type": "stream",
     "text": [
      "[Parallel(n_jobs=1)]: Done   5 out of   5 | elapsed:   43.1s finished\n"
     ]
    },
    {
     "name": "stdout",
     "output_type": "stream",
     "text": [
      "max_iter reached after 8 seconds\n"
     ]
    },
    {
     "name": "stderr",
     "output_type": "stream",
     "text": [
      "/Users/kiwi/virtualenv/python3.4_tensorflow/lib/python3.4/site-packages/sklearn/linear_model/sag.py:326: ConvergenceWarning: The max_iter was reached which means the coef_ did not converge\n",
      "  \"the coef_ did not converge\", ConvergenceWarning)\n"
     ]
    },
    {
     "name": "stdout",
     "output_type": "stream",
     "text": [
      "max_iter reached after 9 seconds\n",
      "max_iter reached after 8 seconds\n",
      "max_iter reached after 8 seconds\n",
      "max_iter reached after 9 seconds\n"
     ]
    },
    {
     "name": "stderr",
     "output_type": "stream",
     "text": [
      "[Parallel(n_jobs=1)]: Done   5 out of   5 | elapsed:   42.0s finished\n"
     ]
    },
    {
     "name": "stdout",
     "output_type": "stream",
     "text": [
      "max_iter reached after 8 seconds\n"
     ]
    },
    {
     "name": "stderr",
     "output_type": "stream",
     "text": [
      "/Users/kiwi/virtualenv/python3.4_tensorflow/lib/python3.4/site-packages/sklearn/linear_model/sag.py:326: ConvergenceWarning: The max_iter was reached which means the coef_ did not converge\n",
      "  \"the coef_ did not converge\", ConvergenceWarning)\n"
     ]
    },
    {
     "name": "stdout",
     "output_type": "stream",
     "text": [
      "max_iter reached after 8 seconds\n",
      "max_iter reached after 9 seconds\n",
      "max_iter reached after 8 seconds\n",
      "max_iter reached after 9 seconds\n"
     ]
    },
    {
     "name": "stderr",
     "output_type": "stream",
     "text": [
      "[Parallel(n_jobs=1)]: Done   5 out of   5 | elapsed:   41.8s finished\n"
     ]
    },
    {
     "name": "stdout",
     "output_type": "stream",
     "text": [
      "max_iter reached after 8 seconds\n"
     ]
    },
    {
     "name": "stderr",
     "output_type": "stream",
     "text": [
      "/Users/kiwi/virtualenv/python3.4_tensorflow/lib/python3.4/site-packages/sklearn/linear_model/sag.py:326: ConvergenceWarning: The max_iter was reached which means the coef_ did not converge\n",
      "  \"the coef_ did not converge\", ConvergenceWarning)\n"
     ]
    },
    {
     "name": "stdout",
     "output_type": "stream",
     "text": [
      "max_iter reached after 8 seconds\n",
      "max_iter reached after 9 seconds\n",
      "max_iter reached after 8 seconds\n",
      "max_iter reached after 9 seconds\n"
     ]
    },
    {
     "name": "stderr",
     "output_type": "stream",
     "text": [
      "[Parallel(n_jobs=1)]: Done   5 out of   5 | elapsed:   42.6s finished\n"
     ]
    },
    {
     "name": "stdout",
     "output_type": "stream",
     "text": [
      "max_iter reached after 9 seconds\n"
     ]
    },
    {
     "name": "stderr",
     "output_type": "stream",
     "text": [
      "/Users/kiwi/virtualenv/python3.4_tensorflow/lib/python3.4/site-packages/sklearn/linear_model/sag.py:326: ConvergenceWarning: The max_iter was reached which means the coef_ did not converge\n",
      "  \"the coef_ did not converge\", ConvergenceWarning)\n"
     ]
    },
    {
     "name": "stdout",
     "output_type": "stream",
     "text": [
      "max_iter reached after 9 seconds\n",
      "max_iter reached after 9 seconds\n",
      "max_iter reached after 9 seconds\n",
      "max_iter reached after 8 seconds\n"
     ]
    },
    {
     "name": "stderr",
     "output_type": "stream",
     "text": [
      "[Parallel(n_jobs=1)]: Done   5 out of   5 | elapsed:   43.6s finished\n"
     ]
    },
    {
     "name": "stdout",
     "output_type": "stream",
     "text": [
      "max_iter reached after 8 seconds\n"
     ]
    },
    {
     "name": "stderr",
     "output_type": "stream",
     "text": [
      "/Users/kiwi/virtualenv/python3.4_tensorflow/lib/python3.4/site-packages/sklearn/linear_model/sag.py:326: ConvergenceWarning: The max_iter was reached which means the coef_ did not converge\n",
      "  \"the coef_ did not converge\", ConvergenceWarning)\n"
     ]
    },
    {
     "name": "stdout",
     "output_type": "stream",
     "text": [
      "max_iter reached after 9 seconds\n",
      "max_iter reached after 8 seconds\n",
      "max_iter reached after 9 seconds\n",
      "max_iter reached after 8 seconds\n"
     ]
    },
    {
     "name": "stderr",
     "output_type": "stream",
     "text": [
      "[Parallel(n_jobs=1)]: Done   5 out of   5 | elapsed:   41.9s finished\n"
     ]
    },
    {
     "name": "stdout",
     "output_type": "stream",
     "text": [
      "max_iter reached after 8 seconds\n"
     ]
    },
    {
     "name": "stderr",
     "output_type": "stream",
     "text": [
      "/Users/kiwi/virtualenv/python3.4_tensorflow/lib/python3.4/site-packages/sklearn/linear_model/sag.py:326: ConvergenceWarning: The max_iter was reached which means the coef_ did not converge\n",
      "  \"the coef_ did not converge\", ConvergenceWarning)\n"
     ]
    },
    {
     "name": "stdout",
     "output_type": "stream",
     "text": [
      "max_iter reached after 9 seconds\n",
      "max_iter reached after 8 seconds\n",
      "max_iter reached after 9 seconds\n",
      "max_iter reached after 8 seconds\n"
     ]
    },
    {
     "name": "stderr",
     "output_type": "stream",
     "text": [
      "[Parallel(n_jobs=1)]: Done   5 out of   5 | elapsed:   42.2s finished\n"
     ]
    },
    {
     "name": "stdout",
     "output_type": "stream",
     "text": [
      "max_iter reached after 9 seconds\n"
     ]
    },
    {
     "name": "stderr",
     "output_type": "stream",
     "text": [
      "/Users/kiwi/virtualenv/python3.4_tensorflow/lib/python3.4/site-packages/sklearn/linear_model/sag.py:326: ConvergenceWarning: The max_iter was reached which means the coef_ did not converge\n",
      "  \"the coef_ did not converge\", ConvergenceWarning)\n"
     ]
    },
    {
     "name": "stdout",
     "output_type": "stream",
     "text": [
      "max_iter reached after 8 seconds\n",
      "max_iter reached after 9 seconds\n",
      "max_iter reached after 9 seconds\n",
      "max_iter reached after 9 seconds\n",
      "Train accuracy: 42.84%, Test accuracy: 38.95%\n"
     ]
    },
    {
     "name": "stderr",
     "output_type": "stream",
     "text": [
      "[Parallel(n_jobs=1)]: Done   5 out of   5 | elapsed:   43.4s finished\n"
     ]
    }
   ],
   "source": [
    "lreg = Pipeline([(\"imputer\", Imputer()),\n",
    "                     ('lreg', LogisticRegression(\n",
    "                      solver = 'sag', max_iter = 500, \n",
    "                                                 class_weight = 'balanced',\n",
    "                                                 multi_class = 'ovr',\n",
    "                                                 warm_start = True, verbose =1))\n",
    "                       ])\n",
    "lreg_result = cross_validate(lreg, X, label, cv=10, return_train_score=True)\n",
    "train_accu = lreg_result['train_score'].mean()\n",
    "test_accu = lreg_result['test_score'].mean()\n",
    "print('Train accuracy: %.2f%%, Test accuracy: %.2f%%' %( train_accu*100,test_accu*100))"
   ]
  },
  {
   "cell_type": "raw",
   "metadata": {},
   "source": [
    "[LibLinear]Train accuracy: 43.42%, Test accuracy: 38.89%\n",
    "solver = 'sag': Train accuracy: 42.89%, Test accuracy: 39.11%\n",
    "solver = 'saga': Train accuracy: 42.84%, Test accuracy: 38.95%"
   ]
  },
  {
   "cell_type": "markdown",
   "metadata": {},
   "source": [
    "### Random Forest\n"
   ]
  },
  {
   "cell_type": "code",
   "execution_count": 13,
   "metadata": {},
   "outputs": [
    {
     "name": "stdout",
     "output_type": "stream",
     "text": [
      "0.430705882353\n"
     ]
    }
   ],
   "source": [
    "rf_estimator = [(\"imputer\", Imputer()),\n",
    "                      (\"forest\", RandomForestClassifier(random_state=0,n_estimators=100,\n",
    "                                                    warm_start = True))\n",
    "                     ]\n",
    "rf_pipe = Pipeline(rf_estimator)\n",
    "rf_score = cross_val_score(rf_pipe, X, label, cv=10).mean()\n",
    "print(rf_score)"
   ]
  },
  {
   "cell_type": "markdown",
   "metadata": {},
   "source": [
    "### AdaBoostClassifier"
   ]
  },
  {
   "cell_type": "code",
   "execution_count": 27,
   "metadata": {},
   "outputs": [
    {
     "name": "stdout",
     "output_type": "stream",
     "text": [
      "Train accuracy: 100.00%, Test accuracy: 43.07%\n"
     ]
    }
   ],
   "source": [
    "ada_estimator = [(\"ada\", AdaBoostClassifier(random_state=0,n_estimators=200))]\n",
    "ada_pipe = Pipeline(ada_estimator)\n",
    "ada_result = cross_validate(rf_pipe, X, label, cv=10, return_train_score=True)\n",
    "train_accu = ada_result['train_score'].mean()\n",
    "test_accu = ada_result['test_score'].mean()\n",
    "print('Train accuracy: %.2f%%, Test accuracy: %.2f%%' %( train_accu*100,test_accu*100))"
   ]
  },
  {
   "cell_type": "markdown",
   "metadata": {},
   "source": [
    "### SVM"
   ]
  },
  {
   "cell_type": "code",
   "execution_count": null,
   "metadata": {
    "collapsed": true
   },
   "outputs": [],
   "source": [
    "from sklearn.multiclass import OneVsOneClassifier\n",
    "from sklearn.svm import LinearSVC\n",
    "\n",
    "svm_estimator = LinearSVC()\n",
    "classifier = OneVsOneClassifier(svm_estimator)\n",
    "svm_result = cross_validate(classifier, X, label, cv=10, return_train_score=True)\n",
    "train_accu = svm_result['train_score'].mean()\n",
    "test_accu = svm_result['test_score'].mean()\n",
    "print('Train accuracy: %.2f%%, Test accuracy: %.2f%%' %( train_accu*100,test_accu*100))"
   ]
  },
  {
   "cell_type": "markdown",
   "metadata": {},
   "source": [
    "### Neural Nets"
   ]
  },
  {
   "cell_type": "code",
   "execution_count": 17,
   "metadata": {},
   "outputs": [
    {
     "data": {
      "text/html": [
       "<div>\n",
       "<style>\n",
       "    .dataframe thead tr:only-child th {\n",
       "        text-align: right;\n",
       "    }\n",
       "\n",
       "    .dataframe thead th {\n",
       "        text-align: left;\n",
       "    }\n",
       "\n",
       "    .dataframe tbody tr th {\n",
       "        vertical-align: top;\n",
       "    }\n",
       "</style>\n",
       "<table border=\"1\" class=\"dataframe\">\n",
       "  <thead>\n",
       "    <tr style=\"text-align: right;\">\n",
       "      <th></th>\n",
       "      <th>0</th>\n",
       "      <th>1</th>\n",
       "      <th>2</th>\n",
       "      <th>3</th>\n",
       "      <th>4</th>\n",
       "    </tr>\n",
       "  </thead>\n",
       "  <tbody>\n",
       "    <tr>\n",
       "      <th>3118</th>\n",
       "      <td>0</td>\n",
       "      <td>0</td>\n",
       "      <td>0</td>\n",
       "      <td>1</td>\n",
       "      <td>0</td>\n",
       "    </tr>\n",
       "    <tr>\n",
       "      <th>6259</th>\n",
       "      <td>0</td>\n",
       "      <td>0</td>\n",
       "      <td>1</td>\n",
       "      <td>0</td>\n",
       "      <td>0</td>\n",
       "    </tr>\n",
       "    <tr>\n",
       "      <th>3802</th>\n",
       "      <td>0</td>\n",
       "      <td>0</td>\n",
       "      <td>0</td>\n",
       "      <td>1</td>\n",
       "      <td>0</td>\n",
       "    </tr>\n",
       "    <tr>\n",
       "      <th>410</th>\n",
       "      <td>0</td>\n",
       "      <td>0</td>\n",
       "      <td>0</td>\n",
       "      <td>0</td>\n",
       "      <td>1</td>\n",
       "    </tr>\n",
       "    <tr>\n",
       "      <th>1252</th>\n",
       "      <td>0</td>\n",
       "      <td>0</td>\n",
       "      <td>0</td>\n",
       "      <td>0</td>\n",
       "      <td>1</td>\n",
       "    </tr>\n",
       "  </tbody>\n",
       "</table>\n",
       "</div>"
      ],
      "text/plain": [
       "      0  1  2  3  4\n",
       "3118  0  0  0  1  0\n",
       "6259  0  0  1  0  0\n",
       "3802  0  0  0  1  0\n",
       "410   0  0  0  0  1\n",
       "1252  0  0  0  0  1"
      ]
     },
     "execution_count": 17,
     "metadata": {},
     "output_type": "execute_result"
    }
   ],
   "source": [
    "# convert label into one-hot encoding\n",
    "dummy_y = pd.get_dummies(label)\n",
    "dummy_y.head()"
   ]
  },
  {
   "cell_type": "code",
   "execution_count": 26,
   "metadata": {},
   "outputs": [
    {
     "name": "stderr",
     "output_type": "stream",
     "text": [
      "/Users/kiwi/virtualenv/python3.4_tensorflow/lib/python3.4/site-packages/sklearn/base.py:115: DeprecationWarning: Estimator KerasClassifier modifies parameters in __init__. This behavior is deprecated as of 0.18 and support for this behavior will be removed in 0.20.\n",
      "  % type(estimator).__name__, DeprecationWarning)\n",
      "/Users/kiwi/virtualenv/python3.4_tensorflow/lib/python3.4/site-packages/sklearn/base.py:115: DeprecationWarning: Estimator KerasClassifier modifies parameters in __init__. This behavior is deprecated as of 0.18 and support for this behavior will be removed in 0.20.\n",
      "  % type(estimator).__name__, DeprecationWarning)\n",
      "/Users/kiwi/virtualenv/python3.4_tensorflow/lib/python3.4/site-packages/sklearn/base.py:115: DeprecationWarning: Estimator KerasClassifier modifies parameters in __init__. This behavior is deprecated as of 0.18 and support for this behavior will be removed in 0.20.\n",
      "  % type(estimator).__name__, DeprecationWarning)\n",
      "/Users/kiwi/virtualenv/python3.4_tensorflow/lib/python3.4/site-packages/sklearn/base.py:115: DeprecationWarning: Estimator KerasClassifier modifies parameters in __init__. This behavior is deprecated as of 0.18 and support for this behavior will be removed in 0.20.\n",
      "  % type(estimator).__name__, DeprecationWarning)\n",
      "/Users/kiwi/virtualenv/python3.4_tensorflow/lib/python3.4/site-packages/sklearn/base.py:115: DeprecationWarning: Estimator KerasClassifier modifies parameters in __init__. This behavior is deprecated as of 0.18 and support for this behavior will be removed in 0.20.\n",
      "  % type(estimator).__name__, DeprecationWarning)\n",
      "/Users/kiwi/virtualenv/python3.4_tensorflow/lib/python3.4/site-packages/sklearn/base.py:115: DeprecationWarning: Estimator KerasClassifier modifies parameters in __init__. This behavior is deprecated as of 0.18 and support for this behavior will be removed in 0.20.\n",
      "  % type(estimator).__name__, DeprecationWarning)\n",
      "/Users/kiwi/virtualenv/python3.4_tensorflow/lib/python3.4/site-packages/sklearn/base.py:115: DeprecationWarning: Estimator KerasClassifier modifies parameters in __init__. This behavior is deprecated as of 0.18 and support for this behavior will be removed in 0.20.\n",
      "  % type(estimator).__name__, DeprecationWarning)\n",
      "/Users/kiwi/virtualenv/python3.4_tensorflow/lib/python3.4/site-packages/sklearn/base.py:115: DeprecationWarning: Estimator KerasClassifier modifies parameters in __init__. This behavior is deprecated as of 0.18 and support for this behavior will be removed in 0.20.\n",
      "  % type(estimator).__name__, DeprecationWarning)\n",
      "/Users/kiwi/virtualenv/python3.4_tensorflow/lib/python3.4/site-packages/sklearn/base.py:115: DeprecationWarning: Estimator KerasClassifier modifies parameters in __init__. This behavior is deprecated as of 0.18 and support for this behavior will be removed in 0.20.\n",
      "  % type(estimator).__name__, DeprecationWarning)\n",
      "/Users/kiwi/virtualenv/python3.4_tensorflow/lib/python3.4/site-packages/sklearn/base.py:115: DeprecationWarning: Estimator KerasClassifier modifies parameters in __init__. This behavior is deprecated as of 0.18 and support for this behavior will be removed in 0.20.\n",
      "  % type(estimator).__name__, DeprecationWarning)\n"
     ]
    },
    {
     "name": "stdout",
     "output_type": "stream",
     "text": [
      "Baseline: 23.33% (5.57%)\n",
      "max accuracy:  [0.49215565689486696, 0.028226569347106337, 0.08127063750150053, 512, [32], 0.23329411771367575]\n"
     ]
    },
    {
     "ename": "NameError",
     "evalue": "name 'history' is not defined",
     "output_type": "error",
     "traceback": [
      "\u001b[0;31m---------------------------------------------------------------------------\u001b[0m",
      "\u001b[0;31mNameError\u001b[0m                                 Traceback (most recent call last)",
      "\u001b[0;32m<ipython-input-26-27e1e4bc0f49>\u001b[0m in \u001b[0;36m<module>\u001b[0;34m()\u001b[0m\n\u001b[1;32m     59\u001b[0m         \u001b[0mbest_model\u001b[0m \u001b[0;34m=\u001b[0m \u001b[0mmodel\u001b[0m\u001b[0;34m\u001b[0m\u001b[0m\n\u001b[1;32m     60\u001b[0m         \u001b[0mprint\u001b[0m\u001b[0;34m(\u001b[0m\u001b[0;34m'max accuracy: '\u001b[0m\u001b[0;34m,\u001b[0m \u001b[0mhypers\u001b[0m\u001b[0;34m)\u001b[0m\u001b[0;34m\u001b[0m\u001b[0m\n\u001b[0;32m---> 61\u001b[0;31m     \u001b[0mhypers\u001b[0m\u001b[0;34m.\u001b[0m\u001b[0mappend\u001b[0m\u001b[0;34m(\u001b[0m\u001b[0mhistory\u001b[0m\u001b[0;34m.\u001b[0m\u001b[0mhistory\u001b[0m\u001b[0;34m[\u001b[0m\u001b[0;34m'categorical_accuracy'\u001b[0m\u001b[0;34m]\u001b[0m\u001b[0;34m)\u001b[0m\u001b[0;34m\u001b[0m\u001b[0m\n\u001b[0m\u001b[1;32m     62\u001b[0m     \u001b[0mrecords\u001b[0m\u001b[0;34m.\u001b[0m\u001b[0mappend\u001b[0m\u001b[0;34m(\u001b[0m\u001b[0mhypers\u001b[0m\u001b[0;34m)\u001b[0m\u001b[0;34m\u001b[0m\u001b[0m\n\u001b[1;32m     63\u001b[0m     \u001b[0mprint\u001b[0m\u001b[0;34m(\u001b[0m\u001b[0;34m'---->'\u001b[0m\u001b[0;34m,\u001b[0m \u001b[0mi\u001b[0m\u001b[0;34m,\u001b[0m \u001b[0maccu\u001b[0m\u001b[0;34m)\u001b[0m\u001b[0;34m\u001b[0m\u001b[0m\n",
      "\u001b[0;31mNameError\u001b[0m: name 'history' is not defined"
     ]
    }
   ],
   "source": [
    "from keras.models import Sequential\n",
    "from keras.layers import Dense,BatchNormalization, Dropout, Activation\n",
    "from keras.optimizers import RMSprop\n",
    "from keras import regularizers\n",
    "from keras.wrappers.scikit_learn import KerasClassifier\n",
    "from sklearn.model_selection import StratifiedKFold\n",
    "\n",
    "X_ary = X.as_matrix()\n",
    "def nn_model(lr, hid_units, decay, reg):\n",
    "    model = Sequential()\n",
    "    model.add(Dense(hid_units[0], input_dim=D, kernel_initializer='random_uniform', \n",
    "                    kernel_regularizer=regularizers.l2(reg), activation='relu'))\n",
    "    for u in hid_units[1:]:\n",
    "        model.add(Dense(u, kernel_initializer='random_uniform', \n",
    "                        kernel_regularizer=regularizers.l2(reg),use_bias=False))\n",
    "        model.add(BatchNormalization())\n",
    "        model.add(Activation('relu'))\n",
    "        model.add(Dropout(0.5))\n",
    "    model.add(Dense(5, activation='relu'))\n",
    "    adam = keras.optimizers.adam(lr=lr, decay=decay)\n",
    "    #rmsprop = RMSprop(lr=lr)\n",
    "    model.compile(loss = 'categorical_crossentropy', metrics=['accuracy'], optimizer=adam)\n",
    "    return model\n",
    "\n",
    "\n",
    "max_accu = 0\n",
    "best_model = None\n",
    "records = []\n",
    "epochs = 200\n",
    "num_trials = 10\n",
    "for i in range(num_trials):\n",
    "    # random search of hyperparameters\n",
    "    lr = 10**(-3*np.random.rand()) \n",
    "    decay = 10**(-4*np.random.rand()-1) # 1e-1~-5\n",
    "    batch_size = 2**(np.random.randint(6,10)) # 64~1024\n",
    "    reg = np.random.rand()/10 # regularization strength\n",
    "    # layers and number of hidden units\n",
    "    num_layers = np.random.randint(1,5)\n",
    "    hid_units = []\n",
    "    for l in range(num_layers):\n",
    "        hid_units.append(2**(np.random.randint(4,9)))\n",
    "    hypers = [lr, decay, reg, batch_size, hid_units]\n",
    "    # define 10-fold cross validation test harness\n",
    "    kfold = StratifiedKFold(n_splits=10)\n",
    "    cv_accu = []\n",
    "    # Model setup\n",
    "    model = nn_model(lr,hid_units, decay, reg)\n",
    "    # create estimator for sklearn to train\n",
    "    estimator = KerasClassifier(build_fn=nn_model, \n",
    "                                lr=lr, hid_units=hid_units, decay=decay, \n",
    "                                reg = reg, epochs=epochs, batch_size=batch_size, verbose=0)\n",
    "    kfold = KFold(n_splits=10)\n",
    "    results = cross_val_score(estimator, X_ary, dummy_y, cv=kfold)\n",
    "    accu = results.mean()\n",
    "    print(\"Baseline: %.2f%% (%.2f%%)\" % (accu*100, results.std()*100))\n",
    "    hypers.append(accu)\n",
    "    if accu > max_accu:\n",
    "        max_accu = accu\n",
    "        best_model = model\n",
    "        print('max accuracy: ', hypers)\n",
    "    hypers.append(history.history['categorical_accuracy'])\n",
    "    records.append(hypers)\n",
    "    print('---->', i, accu)\n",
    "# get the index of ranking\n",
    "accu_records = [i[5] for i in records]\n",
    "accu_index = [i[0] for i in sorted(enumerate(accu_records), key=lambda x:x[1])]\n",
    "# list top 3 minimal accuracy and records\n",
    "accu_index = [i[0] for i in sorted(enumerate(accu_records), key=lambda x:x[1])]\n",
    "\n",
    "print(' ')\n",
    "print('The top 10 accuracy are:')\n",
    "for i in accu_index[:10]:\n",
    "    print(records[i][:6])"
   ]
  },
  {
   "cell_type": "markdown",
   "metadata": {},
   "source": [
    "### SVM"
   ]
  },
  {
   "cell_type": "code",
   "execution_count": null,
   "metadata": {
    "collapsed": true
   },
   "outputs": [],
   "source": []
  }
 ],
 "metadata": {
  "kernelspec": {
   "display_name": "Python 3",
   "language": "python",
   "name": "python3"
  },
  "language_info": {
   "codemirror_mode": {
    "name": "ipython",
    "version": 3
   },
   "file_extension": ".py",
   "mimetype": "text/x-python",
   "name": "python",
   "nbconvert_exporter": "python",
   "pygments_lexer": "ipython3",
   "version": "3.4.2"
  }
 },
 "nbformat": 4,
 "nbformat_minor": 2
}
